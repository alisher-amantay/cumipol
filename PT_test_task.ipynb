{
 "cells": [
  {
   "cell_type": "code",
   "execution_count": 1,
   "metadata": {},
   "outputs": [],
   "source": [
    "# imports\n",
    "import urllib.request, urllib.parse\n",
    "import json"
   ]
  },
  {
   "cell_type": "code",
   "execution_count": 2,
   "metadata": {},
   "outputs": [],
   "source": [
    "#creating a json file input.json\n",
    "#input JSON format\n",
    "loan_obj = { \n",
    "    \"Initial\" : 100000, #loan amount\n",
    "    \"APR\" : 5.00, #annual percentage rate\n",
    "    \"N of payments\" : 48, #number of payments that will be made, usually n of months\n",
    "    \"start\": 18, #beginning of desired period\n",
    "    \"end\": 18, #end of desired period\n",
    "    \"Pay in year\": 12 #usually 12 for each month\n",
    "}\n",
    "with open(\"input.json\", \"w\") as outfile: \n",
    "    json.dump(loan_obj, outfile) "
   ]
  },
  {
   "cell_type": "code",
   "execution_count": 3,
   "metadata": {},
   "outputs": [],
   "source": [
    "with open('input.json', 'r') as infile: \n",
    "    # Reading from json file \n",
    "    loan_obj = json.load(infile) "
   ]
  },
  {
   "cell_type": "code",
   "execution_count": 4,
   "metadata": {},
   "outputs": [
    {
     "name": "stdout",
     "output_type": "stream",
     "text": [
      "{'Initial': 100000, 'APR': 5.0, 'N of payments': 48, 'start': 18, 'end': 18, 'Pay in year': 12}\n"
     ]
    }
   ],
   "source": [
    "print(loan_obj) "
   ]
  },
  {
   "cell_type": "code",
   "execution_count": 7,
   "metadata": {},
   "outputs": [
    {
     "name": "stdout",
     "output_type": "stream",
     "text": [
      "<http.client.HTTPResponse object at 0x1066766a0>\n"
     ]
    }
   ],
   "source": [
    "data = json.dumps(loan_obj).encode()\n",
    "\n",
    "req =  urllib.request.Request('http://127.0.0.1:8080', data=data) # this will make the method \"POST\"\n",
    "resp = urllib.request.urlopen(req)\n",
    "print(resp)"
   ]
  },
  {
   "cell_type": "code",
   "execution_count": 8,
   "metadata": {},
   "outputs": [
    {
     "name": "stdout",
     "output_type": "stream",
     "text": [
      "Cumilative interest paid over the period:  278.5085641592754\n"
     ]
    }
   ],
   "source": [
    "CUMIP = resp.read().decode()\n",
    "print('Cumilative interest paid over the period: ', CUMIP)"
   ]
  },
  {
   "cell_type": "code",
   "execution_count": null,
   "metadata": {},
   "outputs": [],
   "source": []
  }
 ],
 "metadata": {
  "kernelspec": {
   "display_name": "Python 3",
   "language": "python",
   "name": "python3"
  },
  "language_info": {
   "codemirror_mode": {
    "name": "ipython",
    "version": 3
   },
   "file_extension": ".py",
   "mimetype": "text/x-python",
   "name": "python",
   "nbconvert_exporter": "python",
   "pygments_lexer": "ipython3",
   "version": "3.8.3"
  }
 },
 "nbformat": 4,
 "nbformat_minor": 4
}
